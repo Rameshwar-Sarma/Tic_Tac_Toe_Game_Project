{
  "nbformat": 4,
  "nbformat_minor": 0,
  "metadata": {
    "colab": {
      "name": "TicTacToeProject.ipynb",
      "provenance": [],
      "collapsed_sections": []
    },
    "kernelspec": {
      "name": "python3",
      "display_name": "Python 3"
    },
    "language_info": {
      "name": "python"
    }
  },
  "cells": [
    {
      "cell_type": "code",
      "execution_count": 1,
      "metadata": {
        "id": "tgWdgp-4SmyT"
      },
      "outputs": [],
      "source": [
        "def player_input():\n",
        "    marker = ''\n",
        "    while(marker.upper()!='X' and marker.upper()!='O'):\n",
        "        marker = input(\"Hey Player 1 ! Choose 'X' or 'O'\").upper()\n",
        "    p1 = marker\n",
        "    if p1 =='X':\n",
        "        return('X','O')\n",
        "    else:\n",
        "        return ('O','X')   \n",
        "        "
      ]
    },
    {
      "cell_type": "code",
      "source": [
        "def place_marker(board,position,player):\n",
        "    board[position] = player"
      ],
      "metadata": {
        "id": "zLK2nxinSt3Q"
      },
      "execution_count": 2,
      "outputs": []
    },
    {
      "cell_type": "code",
      "source": [
        "def win_check(board,p):\n",
        "    return (board[1] == p and board[2] == p and board[3] == p) or  (board[4] == p and board[5] == p and board[6] == p) or (board[7] == p and board[8] == p and board[9] == p) or (board[1] == p and board[4] == p and board[7] == p) or (board[2] == p and board[5] == p and board[8] == p) or (board[3] == p and board[6] == p and board[9] == p) or (board[1] == p and board[5] == p and board[9] == p) or (board[3] == p and board[5] == p and board[7] == p)\n",
        "    "
      ],
      "metadata": {
        "id": "nXDF4cOjS1aY"
      },
      "execution_count": 3,
      "outputs": []
    },
    {
      "cell_type": "code",
      "source": [
        "from IPython.display import clear_output\n",
        "\n",
        "def display_board(board):\n",
        "    clear_output()\n",
        "    print(board[7]+'|'+board[8]+'|'+board[9])\n",
        "    print(\"-----\")\n",
        "    print(board[4]+'|'+board[5]+'|'+board[6])\n",
        "    print(\"-----\")\n",
        "    print(board[1]+'|'+board[2]+'|'+board[3])"
      ],
      "metadata": {
        "id": "77XHzb-HS53i"
      },
      "execution_count": 4,
      "outputs": []
    },
    {
      "cell_type": "code",
      "source": [
        "import random\n",
        "def choose():\n",
        "    flip = random.randint(0,1)\n",
        "    if flip == 0:\n",
        "        return 'Player1'\n",
        "    else:\n",
        "        return 'Player2'    "
      ],
      "metadata": {
        "id": "D_rRUTL7S7rZ"
      },
      "execution_count": 5,
      "outputs": []
    },
    {
      "cell_type": "code",
      "source": [
        "def space_check(board,position):\n",
        "    return board[position] == ' ' "
      ],
      "metadata": {
        "id": "IsTvVYj_S_2X"
      },
      "execution_count": 6,
      "outputs": []
    },
    {
      "cell_type": "code",
      "source": [
        "def fullboard_check(board):\n",
        "    for i in range(1,10):\n",
        "        if space_check(board,i):\n",
        "            return False\n",
        "        \n",
        "    return True"
      ],
      "metadata": {
        "id": "fxWZzfXGTEaV"
      },
      "execution_count": 7,
      "outputs": []
    },
    {
      "cell_type": "code",
      "source": [
        "def pos(board):\n",
        "    pos = 0\n",
        "    while(pos not in range(1,10) or not space_check(board,pos)):\n",
        "        pos = int(input(\"Select a position from (1-9):\"))\n",
        "    return pos\n"
      ],
      "metadata": {
        "id": "xPY1_K4KTJCw"
      },
      "execution_count": 8,
      "outputs": []
    },
    {
      "cell_type": "code",
      "source": [
        "def replay():\n",
        "    ch = input(\"Do You want to play again? Y or N:\").upper()\n",
        "    return ch =='Y'"
      ],
      "metadata": {
        "id": "-PazSdQbTPQl"
      },
      "execution_count": 9,
      "outputs": []
    },
    {
      "cell_type": "code",
      "source": [
        "print('Welcome to Tic Tac Toe Game !!!')\n",
        "while True:\n",
        "    \n",
        "    test_board =[' ']*10\n",
        "    p1,p2 = player_input()\n",
        "    turn =''\n",
        "    position = 0\n",
        "    turn = choose()\n",
        "    print(turn+' will go first')\n",
        "    \n",
        "    play_game = input(\"Are you ready to play? Y or N :\").upper()\n",
        "    \n",
        "    if play_game =='Y':\n",
        "        game_on =True\n",
        "    else:\n",
        "        game_on = False\n",
        "        \n",
        "    while game_on:\n",
        "        \n",
        "        if turn == 'Player1':\n",
        "            #show the board\n",
        "            display_board(test_board)\n",
        "            #choose a position\n",
        "            position = pos(test_board)\n",
        "            #place the marker on the position\n",
        "            place_marker(test_board,position,p1)\n",
        "            #check if they won\n",
        "            if win_check(test_board,p1):\n",
        "                display_board(test_board)\n",
        "                print(\"Congratulations!!!Player1 won the Match\")\n",
        "                game_on = False\n",
        "            #check if there is a tie\n",
        "            elif fullboard_check(test_board):\n",
        "                display_board(test_board)\n",
        "                print(\"Tie Match!!!\")\n",
        "                game_on = False\n",
        "            #no tie and no turn! continue next player\n",
        "            else:\n",
        "                turn = 'Player2'\n",
        "            \n",
        "            ### Player1 Done\n",
        "        else:\n",
        "             #show the board\n",
        "            display_board(test_board)\n",
        "            #choose a position\n",
        "            position = pos(test_board)\n",
        "            #place the marker on the position\n",
        "            place_marker(test_board,position,p2)\n",
        "            #check if they won\n",
        "            if win_check(test_board,p2):\n",
        "                display_board(test_board)\n",
        "                print(\"Congratulations!!!Player2 won the Match\")\n",
        "                game_on = False\n",
        "            #check if there is a tie\n",
        "            elif fullboard_check(test_board):\n",
        "                display_board(test_board)\n",
        "\n",
        "                print(\"Tie Match!!!\")\n",
        "                game_on = False\n",
        "            #no tie and no turn! continue next player\n",
        "            else:\n",
        "                turn = 'Player1'\n",
        "            \n",
        "            ### Player2 Done\n",
        "        \n",
        "    \n",
        "    if not replay():\n",
        "        break"
      ],
      "metadata": {
        "id": "Uc2IlCEXT7Vd"
      },
      "execution_count": null,
      "outputs": []
    }
  ]
}